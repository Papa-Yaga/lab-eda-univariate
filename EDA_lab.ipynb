{
 "cells": [
  {
   "cell_type": "markdown",
   "id": "35a930c4-b5da-4b37-a491-f27997309854",
   "metadata": {},
   "source": [
    "**TITLE**"
   ]
  },
  {
   "cell_type": "code",
   "execution_count": null,
   "id": "8dd37dc4-1639-47aa-b971-bb9f4e6164f5",
   "metadata": {},
   "outputs": [],
   "source": [
    "import pandas as pd\n",
    "import numpy as np\n",
    "import matplotlib.pyplot as plt\n",
    "import seaborn as sns\n",
    "import warnings\n",
    "\n",
    "warnings.filterwarnings(\"ignore\", category=DeprecationWarning)\n",
    "warnings.filterwarnings(\"ignore\", category=FutureWarning)\n",
    "\n",
    "%matplotlib inline"
   ]
  },
  {
   "cell_type": "code",
   "execution_count": null,
   "id": "208b30d2-48cf-4153-89aa-3a177fd421ea",
   "metadata": {},
   "outputs": [],
   "source": [
    "data = r\"amz_uk_price_prediction_dataset.csv\"\n",
    "amz_data = pd.read_csv(data)"
   ]
  },
  {
   "cell_type": "code",
   "execution_count": null,
   "id": "ecbbfcb6-1754-453f-a631-08d29b06a5da",
   "metadata": {},
   "outputs": [],
   "source": [
    "amz_data.columns"
   ]
  },
  {
   "cell_type": "code",
   "execution_count": null,
   "id": "9f421fa1-5a58-4970-8f89-95831b6b745b",
   "metadata": {},
   "outputs": [],
   "source": [
    "amz_data.head()"
   ]
  },
  {
   "cell_type": "code",
   "execution_count": null,
   "id": "1e2d2ba1-24b4-4a54-b7b2-9b80a8cb976d",
   "metadata": {},
   "outputs": [],
   "source": [
    "amz_data.groupby([\"category\"])[\"asin\"].count().sort_values(ascending=False).head(5)"
   ]
  },
  {
   "cell_type": "code",
   "execution_count": null,
   "id": "c2b5bc8b-8eed-439d-8fc5-ac0d64d25b7b",
   "metadata": {},
   "outputs": [],
   "source": [
    "amz_cats = pd.crosstab(amz_data[\"category\"], columns=\"frequency\").sort_values(by=\"frequency\", ascending=False)\n",
    "amz_cats.head(5)"
   ]
  },
  {
   "cell_type": "code",
   "execution_count": null,
   "id": "652bc674-aab0-4640-ad48-d1f9dc068695",
   "metadata": {},
   "outputs": [],
   "source": [
    "plt.figure(figsize=(30,7))\n",
    "plt.xticks(rotation=90)\n",
    "sns.barplot(amz_cats[1:], x=amz_cats.index[1:], y=\"frequency\", palette=\"mako\") # Except the first one."
   ]
  },
  {
   "cell_type": "code",
   "execution_count": null,
   "id": "8c6830bb-3026-4a58-a294-b47647ba8298",
   "metadata": {},
   "outputs": [],
   "source": [
    "amz_data.columns"
   ]
  },
  {
   "cell_type": "code",
   "execution_count": null,
   "id": "3d3e62bb-918b-4768-a758-18603c4d0862",
   "metadata": {},
   "outputs": [],
   "source": [
    "amz_data[\"price\"].describe().round(2)"
   ]
  },
  {
   "cell_type": "code",
   "execution_count": null,
   "id": "cf650218-8d79-448a-a32b-1fc73dd7cbb2",
   "metadata": {},
   "outputs": [],
   "source": [
    "amz_data[\"price\"].mode()"
   ]
  },
  {
   "cell_type": "code",
   "execution_count": null,
   "id": "62f8f977-81e7-4518-8ad4-9080b571a81c",
   "metadata": {},
   "outputs": [],
   "source": [
    "amz_data[\"price\"].median()"
   ]
  },
  {
   "cell_type": "markdown",
   "id": "27c44d76-6913-4c18-b148-d3aeeb4f33a3",
   "metadata": {},
   "source": [
    "**An average that is almost ten times as high as the mode signifies a right-skewed distribution.**"
   ]
  },
  {
   "cell_type": "code",
   "execution_count": null,
   "id": "b49d1244-17e0-4235-bc07-01fbfaae943e",
   "metadata": {},
   "outputs": [],
   "source": [
    "variance = amz_data[\"price\"].var()\n",
    "st_deviation = amz_data[\"price\"].std()\n",
    "range = amz_data[\"price\"].max() - amz_data[\"price\"].min()\n",
    "quantiles_price = amz_data[\"price\"].quantile([0.25, 0.5, 0.75])\n",
    "\n",
    "\n",
    "variance, st_deviation, range, quantiles_price"
   ]
  },
  {
   "cell_type": "markdown",
   "id": "2fa1a6cc-c3fd-4562-9e50-6bba1a1d9982",
   "metadata": {},
   "source": [
    "**With the standard deviation being roughly 345$ it appears that product prizes vary greatly**"
   ]
  },
  {
   "cell_type": "code",
   "execution_count": null,
   "id": "7edbae0f-4e80-4f7f-96be-00aeef5d2d04",
   "metadata": {},
   "outputs": [],
   "source": [
    "avg_prices = amz_data.groupby([\"category\"])[\"price\"].mean().sort_values(ascending=False)\n",
    "plt.figure(figsize=(30,7))\n",
    "plt.xticks(rotation=90)\n",
    "sns.barplot(x=avg_prices.index, y=avg_prices.values, palette=\"mako\")"
   ]
  },
  {
   "cell_type": "code",
   "execution_count": null,
   "id": "91c0147c-8842-44e1-b259-9e2b0586ff6f",
   "metadata": {},
   "outputs": [],
   "source": [
    "avg_prices = pd.DataFrame(avg_prices)\n",
    "combined_cats = avg_prices.join(amz_cats, on=avg_prices.index)"
   ]
  },
  {
   "cell_type": "code",
   "execution_count": null,
   "id": "8c47053e-77e8-495a-a829-35de5dde1d10",
   "metadata": {},
   "outputs": [],
   "source": [
    "combined_cats = combined_cats.sort_values(by=\"frequency\", ascending=False)"
   ]
  },
  {
   "cell_type": "code",
   "execution_count": null,
   "id": "b1911482-fe9f-4215-bf6c-dee8827ee208",
   "metadata": {},
   "outputs": [],
   "source": [
    "combined_cats.head()"
   ]
  },
  {
   "cell_type": "code",
   "execution_count": null,
   "id": "54ef7e5f-16d2-4a0c-92ab-c26d73759298",
   "metadata": {},
   "outputs": [],
   "source": [
    "sns.scatterplot(data=combined_cats[1:], x=\"price\", y=\"frequency\", color=\"gray\") # Except the first one"
   ]
  },
  {
   "cell_type": "code",
   "execution_count": null,
   "id": "ab4aa853-b0bb-4d22-87ef-f122fed1e8f9",
   "metadata": {},
   "outputs": [],
   "source": [
    "sns.histplot(combined_cats[\"price\"][1:], kde=True, bins=50, color=\"gray\")"
   ]
  },
  {
   "cell_type": "code",
   "execution_count": null,
   "id": "6f5ac1c5-9485-40b0-b1b8-7b833d6f9b0d",
   "metadata": {},
   "outputs": [],
   "source": [
    "sns.boxplot(x=combined_cats[\"price\"][1:], color=\"gray\")"
   ]
  },
  {
   "cell_type": "code",
   "execution_count": null,
   "id": "9d928a99-6ca8-4caf-8bd1-411de92a5eda",
   "metadata": {},
   "outputs": [],
   "source": [
    "amz_data.head()"
   ]
  },
  {
   "cell_type": "code",
   "execution_count": null,
   "id": "c43bc6ff-99f1-4a3c-b7dd-a224fba8bd61",
   "metadata": {},
   "outputs": [],
   "source": [
    "mean_rating = amz_data[\"stars\"].mean()\n",
    "median_rating = amz_data[\"stars\"].median()\n",
    "mode_rating = amz_data[\"stars\"].mode()\n",
    "\n",
    "mean_rating, median_rating, mode_rating"
   ]
  },
  {
   "cell_type": "code",
   "execution_count": null,
   "id": "91b7cd90-544a-47bf-933e-e9da58bbd23d",
   "metadata": {},
   "outputs": [],
   "source": [
    "sns.histplot(amz_data[amz_data[\"stars\"]!=0], x=\"stars\", color=\"gray\")"
   ]
  },
  {
   "cell_type": "code",
   "execution_count": null,
   "id": "6198f22a-1074-4cfa-921d-c734c8856d2c",
   "metadata": {},
   "outputs": [],
   "source": [
    "variance_rating = amz_data[\"stars\"].var()\n",
    "st_deviation_rating = amz_data[\"stars\"].std()\n",
    "quantiles_price_rating = amz_data[\"stars\"].quantile([0.25, 0.5, 0.75])\n",
    "\n",
    "\n",
    "variance_rating, st_deviation_rating, range_rating, quantiles_price_rating"
   ]
  },
  {
   "cell_type": "markdown",
   "id": "6091a982-bb6c-4611-a36e-a8b5d42eb1c6",
   "metadata": {},
   "source": [
    "**Considering the wide gap between 0 star ratings and 5 star ratings i would say the spread is wide**"
   ]
  },
  {
   "cell_type": "code",
   "execution_count": null,
   "id": "deed6ddf-b8a2-4008-9758-ef47af64fbc3",
   "metadata": {},
   "outputs": [],
   "source": [
    "skewness_rating = amz_data[\"stars\"].skew()\n",
    "kurtosis_rating = amz_data[\"stars\"].kurtosis()\n",
    "\n",
    "skewness_rating, kurtosis_rating"
   ]
  },
  {
   "cell_type": "markdown",
   "id": "75ba1922-9864-40ef-b65d-2b4ca304270c",
   "metadata": {},
   "source": [
    "**A very small but positive skewness points towards a slight right-skewness. Meanwhile the negative kurtosis of roughly -2 \n",
    "points towards a platykurtic destribution.**"
   ]
  },
  {
   "cell_type": "code",
   "execution_count": null,
   "id": "1edda344-37d1-4a15-befc-bd158a4234f6",
   "metadata": {},
   "outputs": [],
   "source": []
  }
 ],
 "metadata": {
  "kernelspec": {
   "display_name": "Python 3 (ipykernel)",
   "language": "python",
   "name": "python3"
  },
  "language_info": {
   "codemirror_mode": {
    "name": "ipython",
    "version": 3
   },
   "file_extension": ".py",
   "mimetype": "text/x-python",
   "name": "python",
   "nbconvert_exporter": "python",
   "pygments_lexer": "ipython3",
   "version": "3.11.7"
  }
 },
 "nbformat": 4,
 "nbformat_minor": 5
}
